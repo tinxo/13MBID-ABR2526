{
 "cells": [
  {
   "cell_type": "markdown",
   "id": "aa5b75f6",
   "metadata": {},
   "source": [
    "## Máster en Big Data y Data Science\n",
    "\n",
    "### Metodologías de gestión y diseño de proyectos de big data\n",
    "\n",
    "#### AP2 - Modelado y evaluación\n",
    "\n",
    "---\n",
    "\n",
    "En esta libreta se realiza la experimentación para generación del modelo de predicción objetivo del proyecto y la evaluación del mismo.\n",
    "La versión del dataset a utilizar es la obtenida a partir de las operaciones de transformación."
   ]
  },
  {
   "cell_type": "code",
   "execution_count": 3,
   "id": "98487f7e",
   "metadata": {},
   "outputs": [],
   "source": [
    "# Se importan las librerías necesarias y se suprimen las advertencias\n",
    "import pandas as pd\n",
    "import matplotlib.pyplot as plt\n",
    "import warnings\n",
    "\n",
    "warnings.filterwarnings('ignore',category=FutureWarning)\n",
    "warnings.filterwarnings('ignore',category=UserWarning)"
   ]
  },
  {
   "cell_type": "code",
   "execution_count": 4,
   "id": "60d8e296",
   "metadata": {},
   "outputs": [
    {
     "data": {
      "application/vnd.microsoft.datawrangler.viewer.v0+json": {
       "columns": [
        {
         "name": "index",
         "rawType": "int64",
         "type": "integer"
        },
        {
         "name": "age",
         "rawType": "int64",
         "type": "integer"
        },
        {
         "name": "job",
         "rawType": "object",
         "type": "string"
        },
        {
         "name": "marital",
         "rawType": "object",
         "type": "string"
        },
        {
         "name": "education",
         "rawType": "object",
         "type": "string"
        },
        {
         "name": "housing",
         "rawType": "object",
         "type": "string"
        },
        {
         "name": "loan",
         "rawType": "object",
         "type": "string"
        },
        {
         "name": "contact",
         "rawType": "object",
         "type": "string"
        },
        {
         "name": "month",
         "rawType": "object",
         "type": "string"
        },
        {
         "name": "day_of_week",
         "rawType": "object",
         "type": "string"
        },
        {
         "name": "duration",
         "rawType": "int64",
         "type": "integer"
        },
        {
         "name": "campaign",
         "rawType": "int64",
         "type": "integer"
        },
        {
         "name": "previous",
         "rawType": "int64",
         "type": "integer"
        },
        {
         "name": "poutcome",
         "rawType": "object",
         "type": "string"
        },
        {
         "name": "emp_var_rate",
         "rawType": "float64",
         "type": "float"
        },
        {
         "name": "cons_price_idx",
         "rawType": "float64",
         "type": "float"
        },
        {
         "name": "cons_conf_idx",
         "rawType": "float64",
         "type": "float"
        },
        {
         "name": "euribor3m",
         "rawType": "float64",
         "type": "float"
        },
        {
         "name": "nr_employed",
         "rawType": "float64",
         "type": "float"
        },
        {
         "name": "y",
         "rawType": "int64",
         "type": "integer"
        },
        {
         "name": "contacted_before",
         "rawType": "object",
         "type": "string"
        }
       ],
       "ref": "c5be3735-87e2-4f2e-a18b-0c08528ebddd",
       "rows": [
        [
         "0",
         "56",
         "housemaid",
         "married",
         "basic.4y",
         "no",
         "no",
         "telephone",
         "may",
         "mon",
         "261",
         "1",
         "0",
         "nonexistent",
         "1.1",
         "93.994",
         "-36.4",
         "4.857",
         "5191.0",
         "0",
         "no"
        ],
        [
         "1",
         "57",
         "services",
         "married",
         "high.school",
         "no",
         "no",
         "telephone",
         "may",
         "mon",
         "149",
         "1",
         "0",
         "nonexistent",
         "1.1",
         "93.994",
         "-36.4",
         "4.857",
         "5191.0",
         "0",
         "no"
        ],
        [
         "2",
         "37",
         "services",
         "married",
         "high.school",
         "yes",
         "no",
         "telephone",
         "may",
         "mon",
         "226",
         "1",
         "0",
         "nonexistent",
         "1.1",
         "93.994",
         "-36.4",
         "4.857",
         "5191.0",
         "0",
         "no"
        ],
        [
         "3",
         "40",
         "admin.",
         "married",
         "basic.6y",
         "no",
         "no",
         "telephone",
         "may",
         "mon",
         "151",
         "1",
         "0",
         "nonexistent",
         "1.1",
         "93.994",
         "-36.4",
         "4.857",
         "5191.0",
         "0",
         "no"
        ],
        [
         "4",
         "56",
         "services",
         "married",
         "high.school",
         "no",
         "yes",
         "telephone",
         "may",
         "mon",
         "307",
         "1",
         "0",
         "nonexistent",
         "1.1",
         "93.994",
         "-36.4",
         "4.857",
         "5191.0",
         "0",
         "no"
        ]
       ],
       "shape": {
        "columns": 20,
        "rows": 5
       }
      },
      "text/html": [
       "<div>\n",
       "<style scoped>\n",
       "    .dataframe tbody tr th:only-of-type {\n",
       "        vertical-align: middle;\n",
       "    }\n",
       "\n",
       "    .dataframe tbody tr th {\n",
       "        vertical-align: top;\n",
       "    }\n",
       "\n",
       "    .dataframe thead th {\n",
       "        text-align: right;\n",
       "    }\n",
       "</style>\n",
       "<table border=\"1\" class=\"dataframe\">\n",
       "  <thead>\n",
       "    <tr style=\"text-align: right;\">\n",
       "      <th></th>\n",
       "      <th>age</th>\n",
       "      <th>job</th>\n",
       "      <th>marital</th>\n",
       "      <th>education</th>\n",
       "      <th>housing</th>\n",
       "      <th>loan</th>\n",
       "      <th>contact</th>\n",
       "      <th>month</th>\n",
       "      <th>day_of_week</th>\n",
       "      <th>duration</th>\n",
       "      <th>campaign</th>\n",
       "      <th>previous</th>\n",
       "      <th>poutcome</th>\n",
       "      <th>emp_var_rate</th>\n",
       "      <th>cons_price_idx</th>\n",
       "      <th>cons_conf_idx</th>\n",
       "      <th>euribor3m</th>\n",
       "      <th>nr_employed</th>\n",
       "      <th>y</th>\n",
       "      <th>contacted_before</th>\n",
       "    </tr>\n",
       "  </thead>\n",
       "  <tbody>\n",
       "    <tr>\n",
       "      <th>0</th>\n",
       "      <td>56</td>\n",
       "      <td>housemaid</td>\n",
       "      <td>married</td>\n",
       "      <td>basic.4y</td>\n",
       "      <td>no</td>\n",
       "      <td>no</td>\n",
       "      <td>telephone</td>\n",
       "      <td>may</td>\n",
       "      <td>mon</td>\n",
       "      <td>261</td>\n",
       "      <td>1</td>\n",
       "      <td>0</td>\n",
       "      <td>nonexistent</td>\n",
       "      <td>1.1</td>\n",
       "      <td>93.994</td>\n",
       "      <td>-36.4</td>\n",
       "      <td>4.857</td>\n",
       "      <td>5191.0</td>\n",
       "      <td>0</td>\n",
       "      <td>no</td>\n",
       "    </tr>\n",
       "    <tr>\n",
       "      <th>1</th>\n",
       "      <td>57</td>\n",
       "      <td>services</td>\n",
       "      <td>married</td>\n",
       "      <td>high.school</td>\n",
       "      <td>no</td>\n",
       "      <td>no</td>\n",
       "      <td>telephone</td>\n",
       "      <td>may</td>\n",
       "      <td>mon</td>\n",
       "      <td>149</td>\n",
       "      <td>1</td>\n",
       "      <td>0</td>\n",
       "      <td>nonexistent</td>\n",
       "      <td>1.1</td>\n",
       "      <td>93.994</td>\n",
       "      <td>-36.4</td>\n",
       "      <td>4.857</td>\n",
       "      <td>5191.0</td>\n",
       "      <td>0</td>\n",
       "      <td>no</td>\n",
       "    </tr>\n",
       "    <tr>\n",
       "      <th>2</th>\n",
       "      <td>37</td>\n",
       "      <td>services</td>\n",
       "      <td>married</td>\n",
       "      <td>high.school</td>\n",
       "      <td>yes</td>\n",
       "      <td>no</td>\n",
       "      <td>telephone</td>\n",
       "      <td>may</td>\n",
       "      <td>mon</td>\n",
       "      <td>226</td>\n",
       "      <td>1</td>\n",
       "      <td>0</td>\n",
       "      <td>nonexistent</td>\n",
       "      <td>1.1</td>\n",
       "      <td>93.994</td>\n",
       "      <td>-36.4</td>\n",
       "      <td>4.857</td>\n",
       "      <td>5191.0</td>\n",
       "      <td>0</td>\n",
       "      <td>no</td>\n",
       "    </tr>\n",
       "    <tr>\n",
       "      <th>3</th>\n",
       "      <td>40</td>\n",
       "      <td>admin.</td>\n",
       "      <td>married</td>\n",
       "      <td>basic.6y</td>\n",
       "      <td>no</td>\n",
       "      <td>no</td>\n",
       "      <td>telephone</td>\n",
       "      <td>may</td>\n",
       "      <td>mon</td>\n",
       "      <td>151</td>\n",
       "      <td>1</td>\n",
       "      <td>0</td>\n",
       "      <td>nonexistent</td>\n",
       "      <td>1.1</td>\n",
       "      <td>93.994</td>\n",
       "      <td>-36.4</td>\n",
       "      <td>4.857</td>\n",
       "      <td>5191.0</td>\n",
       "      <td>0</td>\n",
       "      <td>no</td>\n",
       "    </tr>\n",
       "    <tr>\n",
       "      <th>4</th>\n",
       "      <td>56</td>\n",
       "      <td>services</td>\n",
       "      <td>married</td>\n",
       "      <td>high.school</td>\n",
       "      <td>no</td>\n",
       "      <td>yes</td>\n",
       "      <td>telephone</td>\n",
       "      <td>may</td>\n",
       "      <td>mon</td>\n",
       "      <td>307</td>\n",
       "      <td>1</td>\n",
       "      <td>0</td>\n",
       "      <td>nonexistent</td>\n",
       "      <td>1.1</td>\n",
       "      <td>93.994</td>\n",
       "      <td>-36.4</td>\n",
       "      <td>4.857</td>\n",
       "      <td>5191.0</td>\n",
       "      <td>0</td>\n",
       "      <td>no</td>\n",
       "    </tr>\n",
       "  </tbody>\n",
       "</table>\n",
       "</div>"
      ],
      "text/plain": [
       "   age        job  marital    education housing loan    contact month  \\\n",
       "0   56  housemaid  married     basic.4y      no   no  telephone   may   \n",
       "1   57   services  married  high.school      no   no  telephone   may   \n",
       "2   37   services  married  high.school     yes   no  telephone   may   \n",
       "3   40     admin.  married     basic.6y      no   no  telephone   may   \n",
       "4   56   services  married  high.school      no  yes  telephone   may   \n",
       "\n",
       "  day_of_week  duration  campaign  previous     poutcome  emp_var_rate  \\\n",
       "0         mon       261         1         0  nonexistent           1.1   \n",
       "1         mon       149         1         0  nonexistent           1.1   \n",
       "2         mon       226         1         0  nonexistent           1.1   \n",
       "3         mon       151         1         0  nonexistent           1.1   \n",
       "4         mon       307         1         0  nonexistent           1.1   \n",
       "\n",
       "   cons_price_idx  cons_conf_idx  euribor3m  nr_employed  y contacted_before  \n",
       "0          93.994          -36.4      4.857       5191.0  0               no  \n",
       "1          93.994          -36.4      4.857       5191.0  0               no  \n",
       "2          93.994          -36.4      4.857       5191.0  0               no  \n",
       "3          93.994          -36.4      4.857       5191.0  0               no  \n",
       "4          93.994          -36.4      4.857       5191.0  0               no  "
      ]
     },
     "execution_count": 4,
     "metadata": {},
     "output_type": "execute_result"
    }
   ],
   "source": [
    "# Lectura de los datos\n",
    "df = pd.read_csv('../data/processed/bank-additional-transformed.csv')\n",
    "df.head(5)"
   ]
  },
  {
   "cell_type": "code",
   "execution_count": 5,
   "id": "ef1a6fac",
   "metadata": {},
   "outputs": [],
   "source": [
    "# Se divide el dataset en variables predictoras y variable objetivo\n",
    "X = df.drop('y', axis=1)\n",
    "y = df['y']"
   ]
  },
  {
   "cell_type": "code",
   "execution_count": 6,
   "id": "5be62f3f",
   "metadata": {},
   "outputs": [],
   "source": [
    "# Se genera el conjunto de entrenamiento y prueba con estratificación\n",
    "from sklearn.model_selection import train_test_split\n",
    "X_train, X_test, y_train, y_test = train_test_split(X, y, test_size=0.2, random_state=42,stratify=y)"
   ]
  },
  {
   "cell_type": "code",
   "execution_count": 7,
   "id": "6f1ce41e",
   "metadata": {},
   "outputs": [
    {
     "data": {
      "text/plain": [
       "Index(['age', 'duration', 'campaign', 'previous', 'emp_var_rate',\n",
       "       'cons_price_idx', 'cons_conf_idx', 'euribor3m', 'nr_employed'],\n",
       "      dtype='object')"
      ]
     },
     "metadata": {},
     "output_type": "display_data"
    },
    {
     "data": {
      "text/plain": [
       "Index(['job', 'marital', 'education', 'housing', 'loan', 'contact', 'month',\n",
       "       'day_of_week', 'poutcome', 'contacted_before'],\n",
       "      dtype='object')"
      ]
     },
     "metadata": {},
     "output_type": "display_data"
    }
   ],
   "source": [
    "# Se separan las columnas numéricas\n",
    "numerical_columns=X_train.select_dtypes(exclude='object').columns\n",
    "display(numerical_columns)\n",
    "\n",
    "categorical_columns=X_train.select_dtypes(include='object').columns\n",
    "display(categorical_columns)"
   ]
  },
  {
   "cell_type": "code",
   "execution_count": 8,
   "id": "a9e4f9a8",
   "metadata": {},
   "outputs": [
    {
     "data": {
      "application/vnd.microsoft.datawrangler.viewer.v0+json": {
       "columns": [
        {
         "name": "y",
         "rawType": "int64",
         "type": "integer"
        },
        {
         "name": "count",
         "rawType": "int64",
         "type": "integer"
        }
       ],
       "ref": "fe497ec8-28c2-4d74-9755-b409694055d7",
       "rows": [
        [
         "0",
         "27190"
        ],
        [
         "1",
         "3406"
        ]
       ],
       "shape": {
        "columns": 1,
        "rows": 2
       }
      },
      "text/plain": [
       "y\n",
       "0    27190\n",
       "1     3406\n",
       "Name: count, dtype: int64"
      ]
     },
     "execution_count": 8,
     "metadata": {},
     "output_type": "execute_result"
    }
   ],
   "source": [
    "# Se verifica la distribución de la variable objetivo en el conjunto de entrenamiento\n",
    "y_train.value_counts()"
   ]
  },
  {
   "cell_type": "code",
   "execution_count": 9,
   "id": "b8d895fd",
   "metadata": {},
   "outputs": [],
   "source": [
    "# Se crea un pipeline para preprocesamiento de datos\n",
    "from sklearn.pipeline import Pipeline\n",
    "from sklearn.preprocessing import OneHotEncoder\n",
    "from sklearn.compose import ColumnTransformer\n",
    "from sklearn.preprocessing import RobustScaler  \n",
    "\n",
    "# Pipeline para valores numéricos\n",
    "num_pipeline = Pipeline(steps=[\n",
    "    ('RobustScaler', RobustScaler())\n",
    "])\n",
    "\n",
    "# Pipeline para valores categóricos\n",
    "cat_pipeline = Pipeline(steps=[\n",
    "    ('OneHotEncoder', OneHotEncoder(drop='first',sparse_output=False))\n",
    "])\n",
    "\n",
    "# Se configuran los preprocesadores\n",
    "preprocessor_full = ColumnTransformer([\n",
    "    ('num_pipeline', num_pipeline, numerical_columns),\n",
    "    ('cat_pipeline', cat_pipeline, categorical_columns)\n",
    "]).set_output(transform='pandas')"
   ]
  },
  {
   "cell_type": "code",
   "execution_count": 10,
   "id": "2b1bb180",
   "metadata": {},
   "outputs": [],
   "source": [
    "preprocessor_train_valid = ColumnTransformer([\n",
    "    ('num_pipeline', num_pipeline, numerical_columns),\n",
    "    ('cat_pipeline', cat_pipeline, categorical_columns)\n",
    "]).set_output(transform='pandas')"
   ]
  },
  {
   "cell_type": "code",
   "execution_count": 11,
   "id": "47621435",
   "metadata": {},
   "outputs": [],
   "source": [
    "# Se ajusta y transforma el conjunto de entrenamiento y prueba\n",
    "x_train_prep = preprocessor_full.fit_transform(X_train)\n",
    "x_test_prep = preprocessor_full.transform(X_test)"
   ]
  },
  {
   "cell_type": "code",
   "execution_count": 12,
   "id": "5d46c063",
   "metadata": {},
   "outputs": [
    {
     "name": "stdout",
     "output_type": "stream",
     "text": [
      "Tamaño original: 30596\n",
      "Tamaño balanceado: 5450\n",
      "Distribución balanceada: target\n",
      "0.0    2725\n",
      "1.0    2725\n",
      "Name: count, dtype: int64\n"
     ]
    }
   ],
   "source": [
    "# Se aplica submuestreo a los datos preprocesados\n",
    "from sklearn.utils import resample\n",
    "\n",
    "# Combinar los datos preprocesados con las etiquetas\n",
    "train_data = x_train_prep.copy()\n",
    "train_data['target'] = y_train.reset_index(drop=True)\n",
    "\n",
    "# Separar por clase\n",
    "class_0 = train_data[train_data['target'] == 0]\n",
    "class_1 = train_data[train_data['target'] == 1]\n",
    "\n",
    "# Encontrar la clase minoritaria\n",
    "min_count = min(len(class_0), len(class_1))\n",
    "\n",
    "# Submuestreo balanceado - tomar una muestra igual al tamaño de la clase minoritaria\n",
    "class_0_balanced = resample(class_0, n_samples=min_count, random_state=42)\n",
    "class_1_balanced = resample(class_1, n_samples=min_count, random_state=42)\n",
    "\n",
    "# Combinar las clases balanceadas\n",
    "balanced_data = pd.concat([class_0_balanced, class_1_balanced])\n",
    "\n",
    "# Separar características y objetivo\n",
    "x_train_resampled = balanced_data.drop('target', axis=1)\n",
    "y_train_resampled = balanced_data['target']\n",
    "\n",
    "print(f\"Tamaño original: {len(x_train_prep)}\")\n",
    "print(f\"Tamaño balanceado: {len(x_train_resampled)}\")\n",
    "print(f\"Distribución balanceada: {y_train_resampled.value_counts()}\")"
   ]
  },
  {
   "cell_type": "code",
   "execution_count": 13,
   "id": "4767dbec",
   "metadata": {},
   "outputs": [],
   "source": [
    "from sklearn.model_selection import cross_val_score\n",
    "\n",
    "\n",
    "# Se genera una función para realizar validación cruzada\n",
    "def cross_val(model):\n",
    "    scores = cross_val_score(model,x_train_resampled , y_train_resampled, cv=5, scoring='f1')\n",
    "    print('cross validation f1 scores',scores*100)\n",
    "    print('cross validation f1 mean',scores.mean()*100)\n",
    "    print('cross validation f1 std',scores.std())\n",
    "    print('-'*50)\n",
    "    scores = cross_val_score(model,x_train_resampled , y_train_resampled, cv=5, scoring='recall')\n",
    "    print('cross validation recall scores',scores*100)\n",
    "    print('cross validation recall mean',scores.mean()*100)\n",
    "    print('cross validation recall std',scores.std())"
   ]
  },
  {
   "cell_type": "code",
   "execution_count": 14,
   "id": "deca8c24",
   "metadata": {},
   "outputs": [
    {
     "name": "stdout",
     "output_type": "stream",
     "text": [
      "cross validation f1 scores [47.68946396 51.57116451 49.29709466 49.5412844  50.72727273]\n",
      "cross validation f1 mean 49.76525605093318\n",
      "cross validation f1 std 0.0132401153018114\n",
      "--------------------------------------------------\n",
      "cross validation recall scores [47.33944954 51.19266055 48.25688073 49.5412844  51.19266055]\n",
      "cross validation recall mean 49.50458715596331\n",
      "cross validation recall std 0.01545646949625883\n"
     ]
    }
   ],
   "source": [
    "# Se aplica un modelo de regresión logística\n",
    "from sklearn.linear_model import LogisticRegression\n",
    "\n",
    "lr = LogisticRegression(C=1,penalty='l2',solver='liblinear',random_state=1,max_iter=100,tol=0.000000001)\n",
    "\n",
    "# cross validation scores\n",
    "cross_val(lr)"
   ]
  },
  {
   "cell_type": "code",
   "execution_count": 15,
   "id": "75a3919a",
   "metadata": {},
   "outputs": [
    {
     "name": "stdout",
     "output_type": "stream",
     "text": [
      "cross validation f1 scores [47.75022957 51.84501845 50.27932961 49.72273567 50.77343039]\n",
      "cross validation f1 mean 50.07414873869516\n",
      "cross validation f1 std 0.01355814515763869\n",
      "--------------------------------------------------\n",
      "cross validation recall scores [47.70642202 51.55963303 49.5412844  49.35779817 51.19266055]\n",
      "cross validation recall mean 49.871559633027516\n",
      "cross validation recall std 0.013896584388081803\n"
     ]
    }
   ],
   "source": [
    "# LinearSVC\n",
    "from sklearn.svm import LinearSVC\n",
    "svc = LinearSVC(max_iter=10000,tol=0.001)\n",
    "\n",
    "# cross validation scores\n",
    "cross_val(svc)"
   ]
  },
  {
   "cell_type": "code",
   "execution_count": 16,
   "id": "61ad4c1b",
   "metadata": {},
   "outputs": [
    {
     "name": "stdout",
     "output_type": "stream",
     "text": [
      "cross validation f1 scores [60.0896861  57.96579658 59.35030729 54.34583715 57.96579658]\n",
      "cross validation f1 mean 57.94348473810715\n",
      "cross validation f1 std 0.019763296183430562\n",
      "--------------------------------------------------\n",
      "cross validation recall scores [61.46788991 59.08256881 62.01834862 54.49541284 59.08256881]\n",
      "cross validation recall mean 59.22935779816514\n",
      "cross validation recall std 0.02654913357458485\n"
     ]
    }
   ],
   "source": [
    "# knclassifier\n",
    "from sklearn.neighbors import KNeighborsClassifier\n",
    "knc = KNeighborsClassifier(n_neighbors=7)\n",
    "\n",
    "# cross validation scores\n",
    "cross_val(knc)"
   ]
  },
  {
   "cell_type": "code",
   "execution_count": 17,
   "id": "5ba6a78e",
   "metadata": {},
   "outputs": [
    {
     "name": "stdout",
     "output_type": "stream",
     "text": [
      "cross validation f1 scores [70.83685545 69.40874036 69.59517657 70.68965517 72.26596675]\n",
      "cross validation f1 mean 70.5592788621255\n",
      "cross validation f1 std 0.010256765940153307\n",
      "--------------------------------------------------\n",
      "cross validation recall scores [75.41284404 72.66055046 74.67889908 75.2293578  75.41284404]\n",
      "cross validation recall mean 74.6788990825688\n",
      "cross validation recall std 0.010444219795051512\n"
     ]
    }
   ],
   "source": [
    "# decision tree classifier\n",
    "from sklearn.tree import DecisionTreeClassifier\n",
    "tree=DecisionTreeClassifier()\n",
    "\n",
    "# cross validation scores\n",
    "cross_val(tree)"
   ]
  },
  {
   "cell_type": "code",
   "execution_count": 18,
   "id": "048b38ad",
   "metadata": {},
   "outputs": [
    {
     "data": {
      "image/png": "[encoded data removed]",
      "text/plain": [
       "<Figure size 640x480 with 1 Axes>"
      ]
     },
     "metadata": {},
     "output_type": "display_data"
    }
   ],
   "source": [
    "# decision tree plot\n",
    "from sklearn.tree import plot_tree\n",
    "tree.fit(x_train_prep, y_train)\n",
    "plot_tree(tree, filled=True, rounded=True,max_depth=2,fontsize=10)\n",
    "plt.show()"
   ]
  },
  {
   "cell_type": "code",
   "execution_count": 19,
   "id": "c90f4eee",
   "metadata": {},
   "outputs": [
    {
     "name": "stdout",
     "output_type": "stream",
     "text": [
      "[[6372  425]\n",
      " [ 421  431]]\n"
     ]
    }
   ],
   "source": [
    "# Se obtiene la matriz de confusión para el modelo\n",
    "from sklearn.metrics import confusion_matrix\n",
    "\n",
    "y_pred = tree.predict(x_test_prep)\n",
    "cm = confusion_matrix(y_test, y_pred)\n",
    "print(cm)\n"
   ]
  },
  {
   "cell_type": "code",
   "execution_count": 20,
   "id": "f3b60a39",
   "metadata": {},
   "outputs": [
    {
     "data": {
      "text/plain": [
       "<sklearn.metrics._plot.confusion_matrix.ConfusionMatrixDisplay at 0x7c3c87d60f50>"
      ]
     },
     "execution_count": 20,
     "metadata": {},
     "output_type": "execute_result"
    },
    {
     "data": {
      "image/png": "[encoded data removed]",
      "text/plain": [
       "<Figure size 640x480 with 2 Axes>"
      ]
     },
     "metadata": {},
     "output_type": "display_data"
    }
   ],
   "source": [
    "# Se visualiza la matriz de confusión\n",
    "from sklearn.metrics import ConfusionMatrixDisplay\n",
    "disp = ConfusionMatrixDisplay(confusion_matrix=cm, display_labels=['no', 'yes'])\n",
    "disp.plot()"
   ]
  },
  {
   "cell_type": "markdown",
   "id": "b59bdc3a",
   "metadata": {},
   "source": [
    "#### Predicción con datos nuevos (sin clasificar)"
   ]
  },
  {
   "cell_type": "code",
   "execution_count": 21,
   "id": "9289542f",
   "metadata": {},
   "outputs": [
    {
     "data": {
      "application/vnd.microsoft.datawrangler.viewer.v0+json": {
       "columns": [
        {
         "name": "index",
         "rawType": "int64",
         "type": "integer"
        },
        {
         "name": "age",
         "rawType": "int64",
         "type": "integer"
        },
        {
         "name": "job",
         "rawType": "object",
         "type": "string"
        },
        {
         "name": "marital",
         "rawType": "object",
         "type": "string"
        },
        {
         "name": "education",
         "rawType": "object",
         "type": "string"
        },
        {
         "name": "housing",
         "rawType": "object",
         "type": "string"
        },
        {
         "name": "loan",
         "rawType": "object",
         "type": "string"
        },
        {
         "name": "contact",
         "rawType": "object",
         "type": "string"
        },
        {
         "name": "month",
         "rawType": "object",
         "type": "string"
        },
        {
         "name": "day_of_week",
         "rawType": "object",
         "type": "string"
        },
        {
         "name": "duration",
         "rawType": "int64",
         "type": "integer"
        },
        {
         "name": "campaign",
         "rawType": "int64",
         "type": "integer"
        },
        {
         "name": "previous",
         "rawType": "int64",
         "type": "integer"
        },
        {
         "name": "poutcome",
         "rawType": "object",
         "type": "string"
        },
        {
         "name": "emp_var_rate",
         "rawType": "float64",
         "type": "float"
        },
        {
         "name": "cons_price_idx",
         "rawType": "float64",
         "type": "float"
        },
        {
         "name": "cons_conf_idx",
         "rawType": "float64",
         "type": "float"
        },
        {
         "name": "euribor3m",
         "rawType": "float64",
         "type": "float"
        },
        {
         "name": "nr_employed",
         "rawType": "float64",
         "type": "float"
        },
        {
         "name": "y",
         "rawType": "object",
         "type": "string"
        },
        {
         "name": "contacted_before",
         "rawType": "float64",
         "type": "float"
        }
       ],
       "ref": "1e3c737a-5e2e-4f0f-857b-72c49f6a4f52",
       "rows": [
        [
         "0",
         "56",
         "housemaid",
         "married",
         "basic.4y",
         "no",
         "no",
         "telephone",
         "may",
         "mon",
         "261",
         "1",
         "0",
         "nonexistent",
         "1.1",
         "93.994",
         "-36.4",
         "4.857",
         "5191.0",
         "no",
         null
        ],
        [
         "1",
         "57",
         "services",
         "married",
         "high.school",
         "no",
         "no",
         "telephone",
         "may",
         "mon",
         "149",
         "1",
         "0",
         "nonexistent",
         "1.1",
         "93.994",
         "-36.4",
         "4.857",
         "5191.0",
         "no",
         null
        ],
        [
         "2",
         "37",
         "services",
         "married",
         "high.school",
         "yes",
         "no",
         "telephone",
         "may",
         "mon",
         "226",
         "1",
         "0",
         "nonexistent",
         "1.1",
         "93.994",
         "-36.4",
         "4.857",
         "5191.0",
         "no",
         null
        ],
        [
         "3",
         "40",
         "admin.",
         "married",
         "basic.6y",
         "no",
         "no",
         "telephone",
         "may",
         "mon",
         "151",
         "1",
         "0",
         "nonexistent",
         "1.1",
         "93.994",
         "-36.4",
         "4.857",
         "5191.0",
         "no",
         null
        ],
        [
         "4",
         "56",
         "services",
         "married",
         "high.school",
         "no",
         "yes",
         "telephone",
         "may",
         "mon",
         "307",
         "1",
         "0",
         "nonexistent",
         "1.1",
         "93.994",
         "-36.4",
         "4.857",
         "5191.0",
         "no",
         null
        ]
       ],
       "shape": {
        "columns": 20,
        "rows": 5
       }
      },
      "text/html": [
       "<div>\n",
       "<style scoped>\n",
       "    .dataframe tbody tr th:only-of-type {\n",
       "        vertical-align: middle;\n",
       "    }\n",
       "\n",
       "    .dataframe tbody tr th {\n",
       "        vertical-align: top;\n",
       "    }\n",
       "\n",
       "    .dataframe thead th {\n",
       "        text-align: right;\n",
       "    }\n",
       "</style>\n",
       "<table border=\"1\" class=\"dataframe\">\n",
       "  <thead>\n",
       "    <tr style=\"text-align: right;\">\n",
       "      <th></th>\n",
       "      <th>age</th>\n",
       "      <th>job</th>\n",
       "      <th>marital</th>\n",
       "      <th>education</th>\n",
       "      <th>housing</th>\n",
       "      <th>loan</th>\n",
       "      <th>contact</th>\n",
       "      <th>month</th>\n",
       "      <th>day_of_week</th>\n",
       "      <th>duration</th>\n",
       "      <th>campaign</th>\n",
       "      <th>previous</th>\n",
       "      <th>poutcome</th>\n",
       "      <th>emp_var_rate</th>\n",
       "      <th>cons_price_idx</th>\n",
       "      <th>cons_conf_idx</th>\n",
       "      <th>euribor3m</th>\n",
       "      <th>nr_employed</th>\n",
       "      <th>y</th>\n",
       "      <th>contacted_before</th>\n",
       "    </tr>\n",
       "  </thead>\n",
       "  <tbody>\n",
       "    <tr>\n",
       "      <th>0</th>\n",
       "      <td>56</td>\n",
       "      <td>housemaid</td>\n",
       "      <td>married</td>\n",
       "      <td>basic.4y</td>\n",
       "      <td>no</td>\n",
       "      <td>no</td>\n",
       "      <td>telephone</td>\n",
       "      <td>may</td>\n",
       "      <td>mon</td>\n",
       "      <td>261</td>\n",
       "      <td>1</td>\n",
       "      <td>0</td>\n",
       "      <td>nonexistent</td>\n",
       "      <td>1.1</td>\n",
       "      <td>93.994</td>\n",
       "      <td>-36.4</td>\n",
       "      <td>4.857</td>\n",
       "      <td>5191.0</td>\n",
       "      <td>no</td>\n",
       "      <td>NaN</td>\n",
       "    </tr>\n",
       "    <tr>\n",
       "      <th>1</th>\n",
       "      <td>57</td>\n",
       "      <td>services</td>\n",
       "      <td>married</td>\n",
       "      <td>high.school</td>\n",
       "      <td>no</td>\n",
       "      <td>no</td>\n",
       "      <td>telephone</td>\n",
       "      <td>may</td>\n",
       "      <td>mon</td>\n",
       "      <td>149</td>\n",
       "      <td>1</td>\n",
       "      <td>0</td>\n",
       "      <td>nonexistent</td>\n",
       "      <td>1.1</td>\n",
       "      <td>93.994</td>\n",
       "      <td>-36.4</td>\n",
       "      <td>4.857</td>\n",
       "      <td>5191.0</td>\n",
       "      <td>no</td>\n",
       "      <td>NaN</td>\n",
       "    </tr>\n",
       "    <tr>\n",
       "      <th>2</th>\n",
       "      <td>37</td>\n",
       "      <td>services</td>\n",
       "      <td>married</td>\n",
       "      <td>high.school</td>\n",
       "      <td>yes</td>\n",
       "      <td>no</td>\n",
       "      <td>telephone</td>\n",
       "      <td>may</td>\n",
       "      <td>mon</td>\n",
       "      <td>226</td>\n",
       "      <td>1</td>\n",
       "      <td>0</td>\n",
       "      <td>nonexistent</td>\n",
       "      <td>1.1</td>\n",
       "      <td>93.994</td>\n",
       "      <td>-36.4</td>\n",
       "      <td>4.857</td>\n",
       "      <td>5191.0</td>\n",
       "      <td>no</td>\n",
       "      <td>NaN</td>\n",
       "    </tr>\n",
       "    <tr>\n",
       "      <th>3</th>\n",
       "      <td>40</td>\n",
       "      <td>admin.</td>\n",
       "      <td>married</td>\n",
       "      <td>basic.6y</td>\n",
       "      <td>no</td>\n",
       "      <td>no</td>\n",
       "      <td>telephone</td>\n",
       "      <td>may</td>\n",
       "      <td>mon</td>\n",
       "      <td>151</td>\n",
       "      <td>1</td>\n",
       "      <td>0</td>\n",
       "      <td>nonexistent</td>\n",
       "      <td>1.1</td>\n",
       "      <td>93.994</td>\n",
       "      <td>-36.4</td>\n",
       "      <td>4.857</td>\n",
       "      <td>5191.0</td>\n",
       "      <td>no</td>\n",
       "      <td>NaN</td>\n",
       "    </tr>\n",
       "    <tr>\n",
       "      <th>4</th>\n",
       "      <td>56</td>\n",
       "      <td>services</td>\n",
       "      <td>married</td>\n",
       "      <td>high.school</td>\n",
       "      <td>no</td>\n",
       "      <td>yes</td>\n",
       "      <td>telephone</td>\n",
       "      <td>may</td>\n",
       "      <td>mon</td>\n",
       "      <td>307</td>\n",
       "      <td>1</td>\n",
       "      <td>0</td>\n",
       "      <td>nonexistent</td>\n",
       "      <td>1.1</td>\n",
       "      <td>93.994</td>\n",
       "      <td>-36.4</td>\n",
       "      <td>4.857</td>\n",
       "      <td>5191.0</td>\n",
       "      <td>no</td>\n",
       "      <td>NaN</td>\n",
       "    </tr>\n",
       "  </tbody>\n",
       "</table>\n",
       "</div>"
      ],
      "text/plain": [
       "   age        job  marital    education housing loan    contact month  \\\n",
       "0   56  housemaid  married     basic.4y      no   no  telephone   may   \n",
       "1   57   services  married  high.school      no   no  telephone   may   \n",
       "2   37   services  married  high.school     yes   no  telephone   may   \n",
       "3   40     admin.  married     basic.6y      no   no  telephone   may   \n",
       "4   56   services  married  high.school      no  yes  telephone   may   \n",
       "\n",
       "  day_of_week  duration  campaign  previous     poutcome  emp_var_rate  \\\n",
       "0         mon       261         1         0  nonexistent           1.1   \n",
       "1         mon       149         1         0  nonexistent           1.1   \n",
       "2         mon       226         1         0  nonexistent           1.1   \n",
       "3         mon       151         1         0  nonexistent           1.1   \n",
       "4         mon       307         1         0  nonexistent           1.1   \n",
       "\n",
       "   cons_price_idx  cons_conf_idx  euribor3m  nr_employed   y  contacted_before  \n",
       "0          93.994          -36.4      4.857       5191.0  no               NaN  \n",
       "1          93.994          -36.4      4.857       5191.0  no               NaN  \n",
       "2          93.994          -36.4      4.857       5191.0  no               NaN  \n",
       "3          93.994          -36.4      4.857       5191.0  no               NaN  \n",
       "4          93.994          -36.4      4.857       5191.0  no               NaN  "
      ]
     },
     "execution_count": 21,
     "metadata": {},
     "output_type": "execute_result"
    }
   ],
   "source": [
    "df_nuevos = pd.read_csv('../data/processed/bank-additional-new.csv')\n",
    "df_nuevos.head(5)"
   ]
  },
  {
   "cell_type": "code",
   "execution_count": 22,
   "id": "c6746b95",
   "metadata": {},
   "outputs": [
    {
     "name": "stdout",
     "output_type": "stream",
     "text": [
      "Información del conjunto de datos nuevos:\n",
      "Forma: (9, 20)\n",
      "\n",
      "Tipos de datos:\n",
      "age                   int64\n",
      "job                  object\n",
      "marital              object\n",
      "education            object\n",
      "housing              object\n",
      "loan                 object\n",
      "contact              object\n",
      "month                object\n",
      "day_of_week          object\n",
      "duration              int64\n",
      "campaign              int64\n",
      "previous              int64\n",
      "poutcome             object\n",
      "emp_var_rate        float64\n",
      "cons_price_idx      float64\n",
      "cons_conf_idx       float64\n",
      "euribor3m           float64\n",
      "nr_employed         float64\n",
      "y                    object\n",
      "contacted_before    float64\n",
      "dtype: object\n",
      "\n",
      "Valores nulos:\n",
      "age                 0\n",
      "job                 0\n",
      "marital             0\n",
      "education           0\n",
      "housing             0\n",
      "loan                0\n",
      "contact             0\n",
      "month               0\n",
      "day_of_week         0\n",
      "duration            0\n",
      "campaign            0\n",
      "previous            0\n",
      "poutcome            0\n",
      "emp_var_rate        0\n",
      "cons_price_idx      0\n",
      "cons_conf_idx       0\n",
      "euribor3m           0\n",
      "nr_employed         0\n",
      "y                   0\n",
      "contacted_before    9\n",
      "dtype: int64\n",
      "\n",
      "Columnas categóricas en nuevos datos:\n",
      "['job', 'marital', 'education', 'housing', 'loan', 'contact', 'month', 'day_of_week', 'poutcome', 'y']\n",
      "\n",
      "Columnas numéricas en nuevos datos:\n",
      "['age', 'duration', 'campaign', 'previous', 'emp_var_rate', 'cons_price_idx', 'cons_conf_idx', 'euribor3m', 'nr_employed', 'contacted_before']\n"
     ]
    }
   ],
   "source": [
    "# Diagnosticar el problema con los nuevos datos\n",
    "print(\"Información del conjunto de datos nuevos:\")\n",
    "print(f\"Forma: {df_nuevos.shape}\")\n",
    "print(\"\\nTipos de datos:\")\n",
    "print(df_nuevos.dtypes)\n",
    "print(\"\\nValores nulos:\")\n",
    "print(df_nuevos.isnull().sum())\n",
    "print(\"\\nColumnas categóricas en nuevos datos:\")\n",
    "print(df_nuevos.select_dtypes(include='object').columns.tolist())\n",
    "print(\"\\nColumnas numéricas en nuevos datos:\")\n",
    "print(df_nuevos.select_dtypes(exclude='object').columns.tolist())"
   ]
  },
  {
   "cell_type": "code",
   "execution_count": 24,
   "id": "ae6597f7",
   "metadata": {},
   "outputs": [
    {
     "name": "stdout",
     "output_type": "stream",
     "text": [
      "Comparación de columnas:\n",
      "Columnas en datos originales: ['age', 'job', 'marital', 'education', 'housing', 'loan', 'contact', 'month', 'day_of_week', 'duration', 'campaign', 'previous', 'poutcome', 'emp_var_rate', 'cons_price_idx', 'cons_conf_idx', 'euribor3m', 'nr_employed', 'contacted_before']\n",
      "Columnas en datos nuevos: ['age', 'job', 'marital', 'education', 'housing', 'loan', 'contact', 'month', 'day_of_week', 'duration', 'campaign', 'previous', 'poutcome', 'emp_var_rate', 'cons_price_idx', 'cons_conf_idx', 'euribor3m', 'nr_employed', 'y', 'contacted_before']\n",
      "\n",
      "Columnas que están en nuevos pero no en originales:\n",
      "{'y'}\n",
      "\n",
      "Columnas que están en originales pero no en nuevos:\n",
      "set()\n"
     ]
    }
   ],
   "source": [
    "# Comparar con los datos de entrenamiento originales\n",
    "print(\"Comparación de columnas:\")\n",
    "print(f\"Columnas en datos originales: {list(X.columns)}\")\n",
    "print(f\"Columnas en datos nuevos: {list(df_nuevos.columns)}\")\n",
    "\n",
    "print(\"\\nColumnas que están en nuevos pero no en originales:\")\n",
    "new_cols = set(df_nuevos.columns) - set(X.columns)\n",
    "print(new_cols)\n",
    "\n",
    "print(\"\\nColumnas que están en originales pero no en nuevos:\")\n",
    "missing_cols = set(X.columns) - set(df_nuevos.columns)\n",
    "print(missing_cols)"
   ]
  },
  {
   "cell_type": "code",
   "execution_count": 27,
   "id": "5973eb61",
   "metadata": {},
   "outputs": [
    {
     "name": "stdout",
     "output_type": "stream",
     "text": [
      "\n",
      "Predicciones: [0 0 0 0 0 0 0 1 1]\n",
      "\n",
      "Resultados detallados:\n",
      " Cliente  Predicción_Numérica Suscribirá\n",
      "       1                    0         No\n",
      "       2                    0         No\n",
      "       3                    0         No\n",
      "       4                    0         No\n",
      "       5                    0         No\n",
      "       6                    0         No\n",
      "       7                    0         No\n",
      "       8                    1         Sí\n",
      "       9                    1         Sí\n",
      "\n",
      "Resumen de predicciones:\n",
      "  No realizará un depósito: 7 clientes (77.8%)\n",
      "  Sí realizará un depósito: 2 clientes (22.2%)\n"
     ]
    }
   ],
   "source": [
    "# Se hace la predicción con los nuevos datos\n",
    "# Primero, eliminar la columna objetivo si existe y preparar las características\n",
    "X_new = df_nuevos.drop('y', axis=1) if 'y' in df_nuevos.columns else df_nuevos.copy()\n",
    "\n",
    "# Asegurar que las columnas estén en el mismo orden que en el entrenamiento\n",
    "X_new = X_new[X.columns]\n",
    "\n",
    "# Manejar la columna contacted_before para que coincida con el formato de entrenamiento\n",
    "# En entrenamiento: 'no', 'yes' (string)\n",
    "# En nuevos datos: NaN -> necesita convertirse a 'no' (asumiendo que NaN significa no contactado)\n",
    "X_new['contacted_before'] = X_new['contacted_before'].fillna('no')\n",
    "\n",
    "# Convertir cualquier valor numérico a string si es necesario\n",
    "if X_new['contacted_before'].dtype in ['float64', 'int64']:\n",
    "    X_new['contacted_before'] = X_new['contacted_before'].map({0.0: 'no', 1.0: 'yes'}).fillna('no')\n",
    "\n",
    "# Asegurar que contacted_before sea de tipo object como en entrenamiento\n",
    "X_new['contacted_before'] = X_new['contacted_before'].astype('object')\n",
    "\n",
    "# Transformar los nuevos datos usando el mismo preprocesador y predecir\n",
    "try:\n",
    "    x_new_prep = preprocessor_full.transform(X_new)\n",
    "    \n",
    "    y_new_pred = tree.predict(x_new_prep)\n",
    "    print(f\"\\nPredicciones: {y_new_pred}\")\n",
    "    \n",
    "    predictions_df = pd.DataFrame({\n",
    "        'Cliente': range(1, len(y_new_pred) + 1),\n",
    "        'Predicción_Numérica': y_new_pred,\n",
    "        'Suscribirá': ['No' if pred == 0 else 'Sí' for pred in y_new_pred]\n",
    "    })\n",
    "    print(\"\\nResultados detallados:\")\n",
    "    print(predictions_df.to_string(index=False))\n",
    "    \n",
    "    # Resumen de predicciones\n",
    "    pred_counts = pd.Series(y_new_pred).value_counts()\n",
    "    print(\"\\nResumen de predicciones:\")\n",
    "    for pred_val, count in pred_counts.items():\n",
    "        label = 'No realizará un depósito' if pred_val == 0 else 'Sí realizará un depósito'\n",
    "        print(f\"  {label}: {count} clientes ({count/len(y_new_pred)*100:.1f}%)\")\n",
    "    \n",
    "except Exception as e:\n",
    "    print(f\"Error durante el preprocesamiento o predicción: {e}\")\n",
    "    print(\"Información adicional para depuración:\")\n",
    "    print(f\"Tipos de datos en X_new:\\n{X_new.dtypes}\")"
   ]
  }
 ],
 "metadata": {
  "kernelspec": {
   "display_name": "13MBID",
   "language": "python",
   "name": "python3"
  },
  "language_info": {
   "codemirror_mode": {
    "name": "ipython",
    "version": 3
   },
   "file_extension": ".py",
   "mimetype": "text/x-python",
   "name": "python",
   "nbconvert_exporter": "python",
   "pygments_lexer": "ipython3",
   "version": "3.12.3"
  }
 },
 "nbformat": 4,
 "nbformat_minor": 5
}
